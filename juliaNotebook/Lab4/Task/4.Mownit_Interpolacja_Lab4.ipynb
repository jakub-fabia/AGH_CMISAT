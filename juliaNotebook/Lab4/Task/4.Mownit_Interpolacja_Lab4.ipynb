{
 "cells": [
  {
   "cell_type": "markdown",
   "metadata": {},
   "source": [
    "# MOwNiT \n",
    "\n",
    "## Laboratorium 4\n",
    "\n",
    "### Interpolacja"
   ]
  },
  {
   "cell_type": "markdown",
   "metadata": {},
   "source": [
    "Przed uruchomieniem trzeba zainstalować pakiet:\n",
    "\n",
    "```julia\n",
    "Pkg.add(\"Interpolations\")\n",
    "```"
   ]
  },
  {
   "cell_type": "code",
   "execution_count": null,
   "metadata": {},
   "outputs": [],
   "source": [
    "#using Pkg\n",
    "#Pkg.add(\"Interpolations\")"
   ]
  },
  {
   "cell_type": "code",
   "execution_count": null,
   "metadata": {},
   "outputs": [],
   "source": [
    "using Plots"
   ]
  },
  {
   "cell_type": "code",
   "execution_count": null,
   "metadata": {},
   "outputs": [],
   "source": [
    "# wylosowanie węzłów interpolacji\n",
    "xs =  1:1:10\n",
    "ys = [rand() for x in xs]"
   ]
  },
  {
   "cell_type": "code",
   "execution_count": null,
   "metadata": {},
   "outputs": [],
   "source": [
    "scatter(xs,ys, label=\"data points\")"
   ]
  },
  {
   "cell_type": "code",
   "execution_count": null,
   "metadata": {},
   "outputs": [],
   "source": [
    "# interpolacja wielomianowa w pakiecie Polynomials\n",
    "# https://juliamath.github.io/Polynomials.jl/stable/\n",
    "#import Pkg; Pkg.add(\"Polynomials\")\n",
    "using Polynomials\n",
    "f=fit(xs, ys)\n",
    "plot!(f,  extrema(xs)..., label=\"polynomial interpolation\")"
   ]
  },
  {
   "cell_type": "code",
   "execution_count": null,
   "metadata": {},
   "outputs": [],
   "source": [
    "# gęste punkty do rysowania wykresów funkcji interpolujacych\n",
    "xsf=1:0.01:10"
   ]
  },
  {
   "cell_type": "code",
   "execution_count": null,
   "metadata": {},
   "outputs": [],
   "source": [
    "#  interpolacja liniowa z pakietu Interpolations - przykład\n",
    "using Interpolations\n",
    "interp_linear = LinearInterpolation(xs, ys)\n",
    "ysf=[interp_linear(x) for x in xsf]\n",
    "plot!(xsf,ysf, label=\"linear interpolation\")"
   ]
  },
  {
   "cell_type": "code",
   "execution_count": null,
   "metadata": {
    "scrolled": true
   },
   "outputs": [],
   "source": [
    "#  interpolacja szescienna \n",
    "interp_cubic = CubicSplineInterpolation(xs, ys)\n",
    "ysf2=[interp_cubic(x) for x in xsf]\n",
    "plot!(xsf,ysf2, label=\"cubic interpolation\")"
   ]
  },
  {
   "cell_type": "code",
   "execution_count": null,
   "metadata": {},
   "outputs": [],
   "source": [
    "#Interpolacja szescienna to BSpline z warunkami brzegowymi Line i OnGrid. \n",
    "#Więcej o konfiguracji warunkow brzegowych w\n",
    "# dokumentacji https://github.com/JuliaMath/Interpolations.jl/blob/master/doc/Interpolations_algebra.pdf\n",
    "interp_cubic"
   ]
  },
  {
   "cell_type": "code",
   "execution_count": null,
   "metadata": {},
   "outputs": [],
   "source": [
    "# Przyklad konfiguracji  BSpline-ów\n",
    "itp = interpolate(ys, BSpline(Cubic(Free(OnGrid()))))\n",
    "ysf3=[itp(x) for x in xsf]\n",
    "plot(xsf,ysf3, label=\"BSpline cubic interpolation on grid free\")\n",
    "itp = interpolate(ys, BSpline(Cubic(Flat(OnGrid()))))\n",
    "ysf3=[itp(x) for x in xsf]\n",
    "plot!(xsf,ysf3, label=\"BSpline cubic interpolation on grid flat\")\n",
    "itp = interpolate(ys, BSpline(Cubic(Natural(OnGrid()))))\n",
    "ysf3=[itp(x) for x in xsf]\n",
    "plot!(xsf,ysf3, label=\"BSpline cubic interpolation on grid natural\")\n",
    "\n",
    "scatter!(xs,ys, label=\"data points\")\n"
   ]
  },
  {
   "cell_type": "markdown",
   "metadata": {},
   "source": [
    "### Zadania\n",
    "1. Napisać własną implementację interpolacji wielomianowej stosując wprost wzór na wielomian interpolacyjny  Lagrange'a .  Przetestować swoją implementację na wylosowanych węzłach interpolacji w wybranym przedziale. Narysować wykres wielomianu interpolacyjnego w tym przedziale wraz z wezlami interpolacji. <b>(1 pkt)</b>\n",
    "\n",
    "1. Zrobic to samo dla metody  Newtona (metoda ilorazów róznicowych).Narysować wykres wielomianu interpolacyjnego otrzymanego metodą Newtona dla tych samych danych, co w poprzednim punkcie. Zadbać o to, żeby ilorazy wyliczać tylko raz dla danego zbioru wezłow interpolacji, według schematu z pakietu Interpolations http://juliamath.github.io/Interpolations.jl/stable/interpolations/ : \n",
    "   1. napisać funkcję `NewtonInterpolation`, która wylicza ilorazy różnicowe i zwraca \"obiekt interpolacyjny\" `newt`\n",
    "   1. napisać funkcję która wylicza wartość wielomianu dla obiektu `newt` w punkcie x za pomocą  <b>schematu Hornera dla postaci Newtona </b> <b>(2 pkt)</b>\n",
    "\n",
    "1. Zastosować interpolację wielomianową z pakietu Polynomials do tych samych danych, co w poprzednich punktach. Porównać wszystkie 3 wyniki interpolacji wielomianowej na jednym wykresie. Co zauważamy? Dlaczego? <b>(1 pkt)</b>\n",
    "\n",
    "1. Porównać metody poprzez pomiar czasu wykonania dla zmiennej ilości węzłow interpolacji. Uwaga: dodatkowo, dla metody Newtona i pakietu Polynomials należy osobno zmierzyć czas wyliczania wielomianu i osobno czas wyliczania wartości w punkcie. Dokonać pomiaru 10 razy i policzyć wartość średnią oraz oszacować błąd pomiaru za pomocą odchylenia standardowego; wyniki przedstawić na wykresach. <b>(2 pkt)</b>\n",
    "\n",
    "1. Zaimplementować algorytm Neville’a i sprawdzić (dla kilku wybranych punktów), czy daje te same wartości wielomianu co wybrana interpolacja wielomianowa.<b>(1 pkt)</b>\n",
    "\n",
    "1. Poeksperymentować z  interpolacją funkcjami sklejanymi (minimum dwie różne funkcje sklejane),  narysować wykresy i porównać z wykresami interpolacji wielomianowej. <b>Zademonstrować  efekt Rungego</b> <b>(1 pkt)</b>. "
   ]
  }
 ],
 "metadata": {
  "kernelspec": {
   "display_name": "Julia 1.11.4",
   "language": "julia",
   "name": "julia-1.11"
  },
  "language_info": {
   "file_extension": ".jl",
   "mimetype": "application/julia",
   "name": "julia",
   "version": "1.11.4"
  }
 },
 "nbformat": 4,
 "nbformat_minor": 4
}
